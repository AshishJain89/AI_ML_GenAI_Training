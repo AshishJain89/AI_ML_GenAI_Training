{
 "cells": [
  {
   "cell_type": "markdown",
   "metadata": {
    "id": "SfG6oCrIWaXW"
   },
   "source": [
    "# Objective\n",
    "\n",
    "- Implement a task-oriented collaborative workflow of agents to achieve a business objective using `crewai`"
   ]
  },
  {
   "cell_type": "markdown",
   "metadata": {
    "id": "99rhzwPtWcFv"
   },
   "source": [
    "# Setup"
   ]
  },
  {
   "cell_type": "markdown",
   "metadata": {
    "id": "J1cgShF6Wlil"
   },
   "source": [
    "## Installation"
   ]
  },
  {
   "cell_type": "code",
   "execution_count": 1,
   "metadata": {
    "colab": {
     "base_uri": "https://localhost:8080/"
    },
    "executionInfo": {
     "elapsed": 72645,
     "status": "ok",
     "timestamp": 1737374409483,
     "user": {
      "displayName": "Gomtesh Jain",
      "userId": "01434036086632544311"
     },
     "user_tz": -330
    },
    "id": "zmpeOIHhJgeY",
    "outputId": "c4015672-b1e2-4fae-e571-8dc850a41a39"
   },
   "outputs": [
    {
     "name": "stdout",
     "output_type": "stream",
     "text": [
      "\u001b[33m  WARNING: The script pypdfium2 is installed in '/usr/local/python/3.12.1/bin' which is not on PATH.\n",
      "  Consider adding this directory to PATH or, if you prefer to suppress this warning, use --no-warn-script-location.\u001b[0m\u001b[33m\n",
      "\u001b[0m\u001b[33m  WARNING: The script onnxruntime_test is installed in '/usr/local/python/3.12.1/bin' which is not on PATH.\n",
      "  Consider adding this directory to PATH or, if you prefer to suppress this warning, use --no-warn-script-location.\u001b[0m\u001b[33m\n",
      "\u001b[0m\u001b[33m  WARNING: The script pdfplumber is installed in '/usr/local/python/3.12.1/bin' which is not on PATH.\n",
      "  Consider adding this directory to PATH or, if you prefer to suppress this warning, use --no-warn-script-location.\u001b[0m\u001b[33m\n",
      "\u001b[0m\u001b[33m  WARNING: The scripts litellm and litellm-proxy are installed in '/usr/local/python/3.12.1/bin' which is not on PATH.\n",
      "  Consider adding this directory to PATH or, if you prefer to suppress this warning, use --no-warn-script-location.\u001b[0m\u001b[33m\n",
      "\u001b[0m\u001b[33m  WARNING: The script crewai is installed in '/usr/local/python/3.12.1/bin' which is not on PATH.\n",
      "  Consider adding this directory to PATH or, if you prefer to suppress this warning, use --no-warn-script-location.\u001b[0m\u001b[33m\n",
      "\u001b[0mNote: you may need to restart the kernel to use updated packages.\n"
     ]
    }
   ],
   "source": [
    "%pip install -q crewai"
   ]
  },
  {
   "cell_type": "markdown",
   "metadata": {
    "id": "DFTzx3jIWpoB"
   },
   "source": [
    "## Imports"
   ]
  },
  {
   "cell_type": "code",
   "execution_count": 2,
   "metadata": {
    "colab": {
     "base_uri": "https://localhost:8080/"
    },
    "executionInfo": {
     "elapsed": 8813,
     "status": "ok",
     "timestamp": 1737374418273,
     "user": {
      "displayName": "Gomtesh Jain",
      "userId": "01434036086632544311"
     },
     "user_tz": -330
    },
    "id": "SwhlL8HDYgvB",
    "outputId": "4aa37358-5420-4705-f546-2c5c4c7c601e"
   },
   "outputs": [],
   "source": [
    "import json, os\n",
    "\n",
    "from crewai import Agent, Task, Crew, Process, LLM"
   ]
  },
  {
   "cell_type": "code",
   "execution_count": null,
   "metadata": {
    "executionInfo": {
     "elapsed": 23,
     "status": "ok",
     "timestamp": 1737374418273,
     "user": {
      "displayName": "Gomtesh Jain",
      "userId": "01434036086632544311"
     },
     "user_tz": -330
    },
    "id": "80eAGQ6mNLV5"
   },
   "outputs": [],
   "source": [
    "# with open('config-azure.json') as f:\n",
    "#     configs = f.read()\n",
    "# creds = json.loads(configs)"
   ]
  },
  {
   "cell_type": "code",
   "execution_count": null,
   "metadata": {
    "executionInfo": {
     "elapsed": 982,
     "status": "ok",
     "timestamp": 1737374622283,
     "user": {
      "displayName": "Gomtesh Jain",
      "userId": "01434036086632544311"
     },
     "user_tz": -330
    },
    "id": "eoFS92KeaO4j"
   },
   "outputs": [],
   "source": [
    "default_llm = LLM(\n",
    "    model='gemma2-9b-it',\n",
    "    api_key=os.getenv('GROQ_API_KEY'),\n",
    "    base_url='https://api.groq.com/openai/v1',\n",
    "    temperature=0\n",
    ")"
   ]
  },
  {
   "cell_type": "markdown",
   "metadata": {
    "id": "nYN0hA3FGSC3"
   },
   "source": [
    "# Business Objective: Lead Scoring"
   ]
  },
  {
   "cell_type": "markdown",
   "metadata": {
    "id": "4WWcdsD_Gt5t"
   },
   "source": [
    "Consider a tax software company that sells accounting and tax planning products for its enterprise customers. They have two core products - TaxEdge Pro and TaxEdge Analytics. The company wants to implement a lead scoring system for the B2B leads that show interest in the company by filling in a lead form on their website.\n",
    "\n",
    "To score leads, the company wants to use its ideal customer profile, the products it has and match them to the customer needs as mentioned in lead form responses. The company wants to make lead followup more effective by reaching out personally only to those leads who have a high chance of conversion."
   ]
  },
  {
   "cell_type": "markdown",
   "metadata": {
    "id": "PYObfeIGHXGA"
   },
   "source": [
    "# Solution Implementation"
   ]
  },
  {
   "cell_type": "markdown",
   "metadata": {
    "id": "OQtzkpgMHeOl"
   },
   "source": [
    "The process of scoring form responses from leads follows a clear business process and hence is apt for a crew of agents approach. Tasks that form this business process are:\n",
    "1. Extract key information from the form response.\n",
    "2. Research the leads' background, industry and outlook and augment information in the form response.\n",
    "3. Score the lead using the information in the form and the research conducted in step 2.\n",
    "4. Prepare a plan for a company representative to approach the lead if they are deemed to qualify for a follow-up call."
   ]
  },
  {
   "cell_type": "markdown",
   "metadata": {
    "id": "0glTDZEWIKJC"
   },
   "source": [
    "For these tasks that we need to execute in sequence, we attach a specialized agent to each task and assemble a crew.\n",
    "\n",
    "Let us now implement this plan using abstractions from `crew.ai`."
   ]
  },
  {
   "cell_type": "markdown",
   "metadata": {
    "id": "8tzhr9Q7HHLU"
   },
   "source": [
    "**Inputs**"
   ]
  },
  {
   "cell_type": "code",
   "execution_count": null,
   "metadata": {
    "executionInfo": {
     "elapsed": 14,
     "status": "ok",
     "timestamp": 1737374622284,
     "user": {
      "displayName": "Gomtesh Jain",
      "userId": "01434036086632544311"
     },
     "user_tz": -330
    },
    "id": "wfS5z1dmAejd"
   },
   "outputs": [],
   "source": [
    "company = 'TaxEdge Solutions'\n",
    "product_names = 'TaxEdge Pro & TaxEdge Analytics'\n",
    "\n",
    "product_descriptions = \"\"\"\n",
    "TaxEdge Pro is a comprehensive tax management software designed to simplify corporate tax filing and compliance processes. It offers features such as automated tax calculations, integrated payroll tax management, and seamless reporting tools to ensure businesses remain compliant with ever-changing tax laws.\n",
    "TaxEdge Analytics is an advanced reporting and insights tool that helps businesses gain a deeper understanding of their tax data. It enables businesses to analyze tax trends, optimize deductions, and generate customized reports to support better financial decision-making.\n",
    "\"\"\"\n",
    "\n",
    "ideal_customer_profile_description = \"\"\"\n",
    "The ideal customers for TaxEdge Solutions are medium to large enterprises, including accounting firms and corporate finance departments, that manage complex tax filings and compliance requirements. These customers value efficiency, accuracy, and robust reporting tools to meet both regulatory demands and internal auditing standards. They typically face challenges such as staying up-to-date with tax law changes, managing multiple tax jurisdictions, and reducing the time spent on tax preparation and reporting.\n",
    "\"\"\"\n",
    "\n",
    "form_response = \"\"\"\n",
    "**Form Response**\n",
    "\n",
    "1. **Name of your organization:** Alpha Financial Services Inc.\n",
    "2. **Contact person's name and designation:** Rachel Green, Tax Compliance Manager\n",
    "3. **Email address and phone number:** rachel.green@alphafinancial.com, (123) 456-7890\n",
    "4. **What is the size of your company?** 500 employees\n",
    "5. **How many employees are involved in tax-related processes?** 12 employees\n",
    "6. **Do you currently use any tax management software? If yes, please specify.** Yes, we currently use TaxWise but are exploring alternatives for better reporting and analytics.\n",
    "7. **What are your biggest challenges in tax compliance and reporting?** Keeping up with changing tax regulations across multiple jurisdictions, ensuring accuracy in tax calculations, and reducing the time spent on preparing quarterly reports.\n",
    "8. **Which product are you most interested in: TaxEdge Pro, TaxEdge Analytics, or both?** Both products\n",
    "9. **Would you like to schedule a demo or consultation?** Yes, I would like to schedule a demo next week.\n",
    "\"\"\""
   ]
  },
  {
   "cell_type": "markdown",
   "metadata": {
    "id": "3kbXDLJhCooc"
   },
   "source": [
    "## Agents"
   ]
  },
  {
   "cell_type": "markdown",
   "metadata": {
    "id": "Nu-lQE2_IqET"
   },
   "source": [
    "The first step is to assemble individual agents specialized in each of the tasks identified to be executed to achieve the business objective. We define three agents below:\n",
    "- Lead Analysis Agent: Analyzes form responses and extracts information needed for research and scoring\n",
    "- Research Agent: Conducts research on the leads' company and industry. This research could use external tools such as search engines.\n",
    "- Scoring and Planning Agent: Computes a lead score and assembles a product pitch inorder to position the correct product to the customer based on form response information and research conducted by the research agent."
   ]
  },
  {
   "cell_type": "markdown",
   "metadata": {
    "id": "HGOXeI-jJiQw"
   },
   "source": [
    "Let us now define these agents using abstractions provided by `crewai`."
   ]
  },
  {
   "cell_type": "code",
   "execution_count": null,
   "metadata": {
    "executionInfo": {
     "elapsed": 13,
     "status": "ok",
     "timestamp": 1737374622284,
     "user": {
      "displayName": "Gomtesh Jain",
      "userId": "01434036086632544311"
     },
     "user_tz": -330
    },
    "id": "Rzo_JqIwAo8d"
   },
   "outputs": [],
   "source": [
    "lead_analysis_agent = Agent(\n",
    "    role=\"Lead Analysis Expert\",\n",
    "    goal=f\"\"\"\n",
    "    You work at {company}, where you main goal is to analyze leads form responses\n",
    "    to extract essential data for further research and scoring.\n",
    "    \"\"\",\n",
    "    backstory=\"\"\"\n",
    "    As a Lead Analysis Expert, you have an eye for detail and a knack for\n",
    "    identifying key information. With your analytical skills, you sift through\n",
    "    form responses to prepare data for in-depth research, setting the stage for\n",
    "    effective lead qualification.\n",
    "    \"\"\",\n",
    "    llm=default_llm,\n",
    "    memory=True,\n",
    "    verbose=True\n",
    ")\n",
    "\n",
    "research_agent = Agent(\n",
    "    role=\"Industry Research Specialist\",\n",
    "    goal=\"\"\"\n",
    "    Conduct preliminary research on the lead's industry, company size, and AI\n",
    "    use case to provide a solid foundation for scoring.\n",
    "    \"\"\",\n",
    "    backstory=f\"\"\"\n",
    "    You're an Industry Research Specialist at {company} who thrives on digging\n",
    "    deep into market trends, company backgrounds, and potential use cases for AI.\n",
    "    Your research uncovers vital information that informs the scoring and\n",
    "    planning process, ensuring a tailored approach to each lead.\n",
    "    \"\"\",\n",
    "    llm=default_llm,\n",
    "    memory=True,\n",
    "    verbose=True\n",
    ")\n",
    "\n",
    "scoring_and_planning_agent = Agent(\n",
    "    role=\"Lead Scoring and Strategic Planner\",\n",
    "    goal=\"\"\"\n",
    "    Utilize analyzed data and research findings to score leads and suggest an\n",
    "    appropriate plan.\n",
    "    \"\"\",\n",
    "    backstory=f\"\"\"\n",
    "    As the Lead Scoring and Strategic Planner at {company} you combine insights\n",
    "    from lead analysis and research to score leads accurately and align them with the\n",
    "    optimal offering. Your strategic vision and scoring expertise ensure that\n",
    "    potential leads are matched with solutions that meet their specific needs.\n",
    "    \"\"\",\n",
    "    llm=default_llm,\n",
    "    memory=True,\n",
    "    verbose=True\n",
    ")"
   ]
  },
  {
   "cell_type": "markdown",
   "metadata": {
    "id": "y6cIEfGiJrNf"
   },
   "source": [
    "Each of these agents has a role, a goal and a backstory that together define the system message for the LLM attached to the agent."
   ]
  },
  {
   "cell_type": "markdown",
   "metadata": {
    "id": "OFSOfTmSCqfK"
   },
   "source": [
    "## Tasks"
   ]
  },
  {
   "cell_type": "markdown",
   "metadata": {
    "id": "k7z-fb2fJ3qS"
   },
   "source": [
    "With the agents in place, we can now design the tasks these agents should execute in order. These tasks are instances of the `Task` class from `crewai` and further describe the specific task in detail adding in specifics of the company and its products. Each task also has a clear direction on the expected output from the agent executing the task."
   ]
  },
  {
   "cell_type": "code",
   "execution_count": null,
   "metadata": {
    "executionInfo": {
     "elapsed": 12,
     "status": "ok",
     "timestamp": 1737374622284,
     "user": {
      "displayName": "Gomtesh Jain",
      "userId": "01434036086632544311"
     },
     "user_tz": -330
    },
    "id": "ugQvrd9kAeje"
   },
   "outputs": [],
   "source": [
    "lead_analysis_task = Task(\n",
    "  description=f\"\"\"\n",
    "   Analyze the lead's form responses to extract critical information that\n",
    "   might be useful for scoring them, planning a strategy to pitch them,\n",
    "   or anything that might be helpful for taking next steps on selling\n",
    "   them our {product_names}.\n",
    "\n",
    "   We at {company} are more focused on {ideal_customer_profile_description}.\n",
    "\n",
    "   Let's not spend much time in leads that are not a good fit for us.\n",
    "   Short answers from leads are a yellow flag\n",
    "\n",
    "   Lead Form Responses:\n",
    "   {form_response}\n",
    "\n",
    "   Product Descriptions:\n",
    "   {product_descriptions}\n",
    "  \"\"\",\n",
    "  expected_output=\"\"\"\n",
    "  Highlighting key implict or explicit information from the lead's form\n",
    "  responses that can be used for further research and scoring.\n",
    "  We are looking for insights that can help us understand the lead's\n",
    "  industry, company, and potential use cases.\n",
    "  \"\"\",\n",
    "  agent=lead_analysis_agent\n",
    ")\n",
    "\n",
    "\n",
    "research_task = Task(\n",
    "    description=f\"\"\"\n",
    "    Using the information gathered from the lead's data, conduct preliminary\n",
    "    research on the lead's industry, company background, and potential use\n",
    "    cases for {product_names}.\n",
    "    Focus on finding relevant data that can aid in scoring the lead and\n",
    "    planning a strategy to pitch them {product_names}.\n",
    "\n",
    "    Let's not spend much time in leads that are not a good fit for us.\n",
    "    Short answers from leads are a yellow flag.\n",
    "\n",
    "    Lead Form Responses:\n",
    "    {form_response}\n",
    "\n",
    "    Product Descriptions:\n",
    "    {product_descriptions}\n",
    "    \"\"\",\n",
    "    expected_output=f\"\"\"\n",
    "    A research report that includes:\n",
    "    - Industry overview and trends relevant to the lead's company.\n",
    "    - Company-specific information like size, market position, and recent news.\n",
    "    - Potential {product_names} use cases and benefits specific to the lead's industry and company.\n",
    "    - Any other insights that would aid in scoring and planning.\n",
    "    The report should be concise and actionable.\n",
    "    \"\"\",\n",
    "    agent=research_agent,\n",
    "    output_file='research-report.md'\n",
    ")\n",
    "\n",
    "\n",
    "scoring_and_planning_task = Task(\n",
    "    description=f\"\"\"\n",
    "    Utilize the context and the lead's form response to score the lead.\n",
    "    Consider factors such as industry relevance, company size, specific {product_names}\n",
    "    use case potential, and readiness for partnership.\n",
    "    Take into account the wording used on the form response and how lenghty\n",
    "    the response was to score the lead.\n",
    "    Based on the score, suggest the most appropriate strategy for the lead.\n",
    "    Integrate this information to outline how {company} and {product_names} can\n",
    "    specifically benefit this lead.\n",
    "\n",
    "    We are more focused on {ideal_customer_profile_description}\n",
    "\n",
    "    Let's not spend much time in leads that are not a good fit for us.\n",
    "    Smaller comapnies will want to pay less.\n",
    "    Short answers from leads are a yellow flag.\n",
    "    Let's be a little pessimistic and focus the high scores on deals that are\n",
    "    more likely to close and truly great.\n",
    "\n",
    "    Lead Form Responses:\n",
    "    {form_response}\n",
    "\n",
    "\n",
    "    Product Descriptions:\n",
    "    {product_descriptions}\n",
    "    \"\"\",\n",
    "    expected_output=f\"\"\"\n",
    "    A comprehensive evaluation report for each lead that includes:\n",
    "    - A score from 0 to 10\n",
    "    - A tailored summary of how {company} and {product_names} can assist the lead.\n",
    "    - A list of talking points and ideas for an initial email and meeting, personalized for the lead.\n",
    "    This output should serve as a detailed guide for engaging with the lead effectively.\n",
    "    \"\"\",\n",
    "    agent=scoring_and_planning_agent,\n",
    "    output_file='report.md'\n",
    ")"
   ]
  },
  {
   "cell_type": "markdown",
   "metadata": {
    "id": "L9t4p-8SK3JC"
   },
   "source": [
    "Once the final task is executed, the output needs to be presented in a markdown format and written to a report.md file."
   ]
  },
  {
   "cell_type": "markdown",
   "metadata": {
    "id": "lM-h68Z4LYfd"
   },
   "source": [
    "We can now instantiate a crew with these agents by defining the set of agents and a set of tasks that need to be solved in a sequence."
   ]
  },
  {
   "cell_type": "code",
   "execution_count": null,
   "metadata": {
    "colab": {
     "base_uri": "https://localhost:8080/"
    },
    "executionInfo": {
     "elapsed": 11,
     "status": "ok",
     "timestamp": 1737374622285,
     "user": {
      "displayName": "Gomtesh Jain",
      "userId": "01434036086632544311"
     },
     "user_tz": -330
    },
    "id": "2sngXan5Aejf",
    "outputId": "64db7d90-3e0c-43ff-bc67-0b9b89f19de6"
   },
   "outputs": [],
   "source": [
    "lead_assessment_crew = Crew(\n",
    "  agents=[lead_analysis_agent, research_agent, scoring_and_planning_agent],\n",
    "  tasks=[lead_analysis_task, research_task, scoring_and_planning_task],\n",
    "  process=Process.sequential,\n",
    "  verbose=True\n",
    ")"
   ]
  },
  {
   "cell_type": "code",
   "execution_count": null,
   "metadata": {
    "colab": {
     "base_uri": "https://localhost:8080/"
    },
    "executionInfo": {
     "elapsed": 15214,
     "status": "ok",
     "timestamp": 1737374637490,
     "user": {
      "displayName": "Gomtesh Jain",
      "userId": "01434036086632544311"
     },
     "user_tz": -330
    },
    "id": "8ppr-kHwAejf",
    "outputId": "211b533d-b0cf-410f-83b5-009318beabb1"
   },
   "outputs": [],
   "source": [
    "# Begin the task execution\n",
    "response = lead_assessment_crew.kickoff()\n",
    "print(response.raw)"
   ]
  },
  {
   "cell_type": "code",
   "execution_count": null,
   "metadata": {
    "colab": {
     "base_uri": "https://localhost:8080/"
    },
    "executionInfo": {
     "elapsed": 6,
     "status": "ok",
     "timestamp": 1737374637490,
     "user": {
      "displayName": "Gomtesh Jain",
      "userId": "01434036086632544311"
     },
     "user_tz": -330
    },
    "id": "BRCUoxFWKk3h",
    "outputId": "ed096d2f-e8a4-4396-af16-4a5f2c4d49ec"
   },
   "outputs": [],
   "source": [
    "lead_assessment_crew.usage_metrics"
   ]
  }
 ],
 "metadata": {
  "colab": {
   "provenance": []
  },
  "kernelspec": {
   "display_name": "Python 3",
   "name": "python3"
  },
  "language_info": {
   "codemirror_mode": {
    "name": "ipython",
    "version": 3
   },
   "file_extension": ".py",
   "mimetype": "text/x-python",
   "name": "python",
   "nbconvert_exporter": "python",
   "pygments_lexer": "ipython3",
   "version": "3.12.1"
  }
 },
 "nbformat": 4,
 "nbformat_minor": 0
}
